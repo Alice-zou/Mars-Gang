{
  "cells": [
    {
      "cell_type": "markdown",
      "metadata": {
        "id": "view-in-github",
        "colab_type": "text"
      },
      "source": [
        "<a href=\"https://colab.research.google.com/github/Alice-zou/Mars-Gang/blob/main/Copy_of_alice_projected_fastgan.ipynb\" target=\"_parent\"><img src=\"https://colab.research.google.com/assets/colab-badge.svg\" alt=\"Open In Colab\"/></a>"
      ]
    },
    {
      "cell_type": "code",
      "execution_count": null,
      "metadata": {
        "id": "0iQTYFDBNjBF"
      },
      "outputs": [],
      "source": [
        "!nvidia-smi"
      ]
    },
    {
      "cell_type": "code",
      "execution_count": null,
      "metadata": {
        "id": "h9iNzd4WNwIH"
      },
      "outputs": [],
      "source": [
        "from google.colab import drive\n",
        "drive.mount('/content/drive')"
      ]
    },
    {
      "cell_type": "code",
      "execution_count": null,
      "metadata": {
        "id": "mAJ8cuu_N78B"
      },
      "outputs": [],
      "source": [
        "%cd /content/drive/MyDrive"
      ]
    },
    {
      "cell_type": "code",
      "execution_count": null,
      "metadata": {
        "id": "e0rSauWDN-Sa"
      },
      "outputs": [],
      "source": [
        "!git clone https://github.com/autonomousvision/projected_gan.git"
      ]
    },
    {
      "cell_type": "code",
      "execution_count": null,
      "metadata": {
        "id": "K8RTKcs0OArj"
      },
      "outputs": [],
      "source": [
        "!pip install timm\n",
        "import timm"
      ]
    },
    {
      "cell_type": "code",
      "source": [
        "!pip install ninja"
      ],
      "metadata": {
        "id": "xsa77X1yHr1L"
      },
      "execution_count": null,
      "outputs": []
    },
    {
      "cell_type": "code",
      "execution_count": null,
      "metadata": {
        "id": "L4pcVBWZOEsT"
      },
      "outputs": [],
      "source": [
        "%cd /content/drive/MyDrive/projected_gan/"
      ]
    },
    {
      "cell_type": "code",
      "source": [
        "# !pip3 install torch==1.9.1+cu111 torchvision==0.10.1+cu111 torchaudio==0.9.1 -f https://download.pytorch.org/whl/torch_stable.html\n"
      ],
      "metadata": {
        "id": "LpBkVJC6PzNA"
      },
      "execution_count": null,
      "outputs": []
    },
    {
      "cell_type": "code",
      "execution_count": null,
      "metadata": {
        "id": "4Yjq39ajXoHR"
      },
      "outputs": [],
      "source": [
        "!python train.py --outdir=/content/drive/MyDrive/runs/ --cfg=fastgan --data=/content/drive/MyDrive/hirise60kgan.zip \\\n",
        "  --gpus=1 --batch=16 --batch-gpu=8 --snap=20 --kimg=10000 --resume=/content/drive/MyDrive/runs/00013-fastgan-hirise60kgan-gpus1-batch64/best_model.pkl"
      ]
    },
    {
      "cell_type": "code",
      "source": [
        "70/10"
      ],
      "metadata": {
        "id": "wWX2_mOwd7Ze"
      },
      "execution_count": null,
      "outputs": []
    }
  ],
  "metadata": {
    "accelerator": "GPU",
    "colab": {
      "machine_shape": "hm",
      "provenance": [],
      "private_outputs": true,
      "background_execution": "on",
      "include_colab_link": true
    },
    "kernelspec": {
      "display_name": "Python 3",
      "name": "python3"
    },
    "language_info": {
      "name": "python"
    }
  },
  "nbformat": 4,
  "nbformat_minor": 0
}